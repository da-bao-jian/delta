{
 "cells": [
  {
   "cell_type": "markdown",
   "source": [
    "# Defi Delta Neutral(Not Really) Strategy \n",
    "### When it comes down to delta neutral strategies, spot/perp basis trading, fut/perp cash-n-carry are quite common on CEXs these days. \n",
    "\n",
    "### Now, the advent of leveraged farming has brought the delta neutral to the DeFi space. However, due to AMMs' nature, impermnant loss makes having a perfect delta neutral strategy hard to implement. That's why this is \"not really\" a delta neutral play by definition. \n",
    "### Nevertheless, with proper risk management, dynamic delta hedging, and careful asset selection, on-chain strategies I will present below can achieve similar outcome. With CEX deirivative products, it can even outperform purely CEX delta-neutral strategies under certain market conditions(I will elaborate toward the end).   \n"
   ],
   "metadata": {}
  },
  {
   "cell_type": "markdown",
   "source": [
    "## Before code and fancy graphs, let me expain how to achieve quasi delta neutral on-chain"
   ],
   "metadata": {}
  },
  {
   "cell_type": "markdown",
   "source": [
    "### Let's use Tuplip/Solfarm as our trading platform because it's the one I used the most often lately, credit to Solana's low fee and high throughput properties. \n",
    "\n",
    "### Say we want to farm WETH/USDC pairs, but don't want directional risk. \n",
    "### Additionally, we have $40000 at disposal.\n",
    "### Currently, WETH is trading at $5000 and USDC at $1 \n",
    "### We could open two positions:\n",
    "### Position 1: \n",
    "###  - put down 10k to buy WETH and borrow 20k using 3x Leverage(maximum leverage allowed on Tulip). By opening this position, we are essentially faming 15k worth of WETH and 15k worth of USDC. To achieve the 50/50 split, we are borrowing 15k USDC and 5k WETH. Therefore, we will have a 15k WETH long exposure. \n",
    "### Position 2:\n",
    "### - put down another 30k to buy USDC and borrow 60k worth of WETH using 3x leverage. By opening this position, we are farming 45k WETH and 45k USDC. The difference is we will have a 15k WETH short exposure because of the borrowed 15k USDC. "
   ],
   "metadata": {}
  },
  {
   "cell_type": "markdown",
   "source": [
    "<br><br>\n",
    "## Now let's dive into the numbers:"
   ],
   "metadata": {}
  },
  {
   "cell_type": "code",
   "execution_count": 1,
   "source": [
    "asset_X = \"WETH\"\n",
    "asset_Y = \"USDC\""
   ],
   "outputs": [],
   "metadata": {}
  },
  {
   "cell_type": "markdown",
   "source": [
    "## Position 1: "
   ],
   "metadata": {}
  },
  {
   "cell_type": "markdown",
   "source": [
    "## At $T_0$"
   ],
   "metadata": {}
  },
  {
   "cell_type": "code",
   "execution_count": 2,
   "source": [
    "asset_X_quant_owned = 2\n",
    "asset_X_price = 5000\n",
    "asset_Y_quant_owned = 0\n",
    "asset_Y_price = 1 \n",
    "leverage = 3\n",
    "apr = 2\n",
    "borrowing_interest = 0.4\n",
    "farming_duration_in_days = 10\n",
    "liquidation_threshold = 0.8\n",
    "liquidation_fee = 0.05\n",
    "\n",
    "total_value_supp = asset_X_quant_owned * asset_X_price + asset_Y_quant_owned * asset_Y_price\n",
    "\n",
    "if asset_X_quant_owned == 0:\n",
    "    amount_asset_borrowed = ((leverage - 1) * total_value_supp)/asset_X_price\n",
    "else:\n",
    "    amount_asset_borrowed = ((leverage - 1) * total_value_supp)/asset_Y_price\n",
    "\n",
    "\n",
    "total_position_value = total_value_supp * leverage\n",
    "value_of_asset_borrowed = total_position_value - total_value_supp\n",
    "number_of_asset_X_including_borrowed = total_position_value/2/asset_X_price\n",
    "number_of_asset_Y_including_borrowed = total_position_value/2/asset_Y_price\n",
    "\n",
    "debt_ratio = value_of_asset_borrowed/total_position_value \n",
    "\n",
    "k = number_of_asset_Y_including_borrowed*number_of_asset_X_including_borrowed\n",
    "\n",
    "print(\"Position 2: \")\n",
    "print(f'Borrowing: {asset_X}')\n",
    "print(f\"{asset_X} Quantity: {asset_X_quant_owned}\")\n",
    "print(f\"{asset_X} Price: ${asset_X_price}\")\n",
    "print(f\"{asset_Y} Quantity: {asset_Y_quant_owned}\")\n",
    "print(f\"{asset_Y} Price: ${asset_Y_price}\")\n",
    "print(f'Leverage: {leverage}')\n",
    "print(f'Debt ratio: {debt_ratio}')\n",
    "print(f'Liquidation Threshold(will be liquidated if debt ratio > liquidation threshold): {liquidation_threshold}')\n",
    "print(f'Liquidation Fee: {liquidation_fee}')\n",
    "print(f'Quantity of {asset_X}: {number_of_asset_X_including_borrowed}')\n",
    "print(f'Quantity of {asset_Y}: {number_of_asset_Y_including_borrowed}')\n",
    "print(f\"Farming Duration: {farming_duration_in_days} days\")\n",
    "print(f'Annul APR(including trading fees and reward token): {apr}')\n",
    "print(f'Borrowing interest: {borrowing_interest}')\n"
   ],
   "outputs": [
    {
     "output_type": "stream",
     "name": "stdout",
     "text": [
      "Position 2: \n",
      "Borrowing: WETH\n",
      "WETH Quantity: 2\n",
      "WETH Price: $5000\n",
      "USDC Quantity: 0\n",
      "USDC Price: $1\n",
      "Leverage: 3\n",
      "Debt ratio: 0.6666666666666666\n",
      "Liquidation Threshold(will be liquidated if debt ratio > liquidation threshold): 0.8\n",
      "Liquidation Fee: 0.05\n",
      "Quantity of WETH: 3.0\n",
      "Quantity of USDC: 15000.0\n",
      "Farming Duration: 10 days\n",
      "Annul APR(including trading fees and reward token): 2\n",
      "Borrowing interest: 0.4\n"
     ]
    }
   ],
   "metadata": {}
  },
  {
   "cell_type": "markdown",
   "source": [
    "## At $T_1$, price X increased by 10%\n",
    "### * for impermnant loss calculation, refer to [impermnant_loss_calculator.ipynb](https://github.com/da-bao-jian/delta/blob/master/impermnant_loss_calculator.ipynb)"
   ],
   "metadata": {}
  },
  {
   "cell_type": "code",
   "execution_count": 10,
   "source": [
    "import math, statistics\n",
    "X_price_change_percentage = 0.1\n",
    "Y_price_change_percentage = 0\n",
    "\n",
    "asset_X_price_t1 = asset_X_price * (1+X_price_change_percentage)\n",
    "asset_Y_price_t1 = asset_Y_price * (1+Y_price_change_percentage)\n",
    "\n",
    "price_of_X_in_term_of_Y = asset_Y_price_t1/asset_X_price_t1\n",
    "\n",
    "quantity_of_Y_t1 = math.sqrt(k/price_of_X_in_term_of_Y)\n",
    "quantity_of_X_t1 = k/quantity_of_Y_t1\n",
    "\n",
    "total_position_value_t1 = quantity_of_X_t1 * asset_X_price_t1 + quantity_of_Y_t1 * asset_Y_price_t1\n",
    "debt_t1 = asset_X_price_t1*amount_asset_borrowed if asset_X_quant_owned == 0 else asset_Y_price_t1*amount_asset_borrowed\n",
    "\n",
    "debt_ratio_t1 = (debt_t1)/total_position_value_t1\n",
    "value_received = total_position_value_t1 - debt_t1 if debt_ratio_t1 < liquidation_threshold else (total_position_value_t1*debt_t1)*liquidation_fee\n",
    "\n",
    "apy = ((apr-borrowing_interest)/365+1)**365-1\n",
    "\n",
    "return_from_daily_compounding = (((apr-borrowing_interest)/365+1)**farming_duration_in_days-1)*statistics.mean([value_received, total_value_supp])\n",
    "print(f'Quantity of {asset_X} after {farming_duration_in_days} days: {quantity_of_X_t1}') \n",
    "print(f'Quantity of {asset_Y} after {farming_duration_in_days} days: {quantity_of_Y_t1}') \n",
    "print(f'Total Position Value at T1: {total_position_value_t1}')\n",
    "print(f'Debt Ratio: {debt_ratio_t1}')\n",
    "print(f'Liquidated: {debt_ratio_t1 > liquidation_threshold}')\n",
    "print(f'Value Received after closing: {value_received}')\n",
    "print(f'PnL: {value_received - total_value_supp} | {100*(value_received-total_value_supp)/total_value_supp}%')\n",
    "print(f'APY: {apy*100}%')\n",
    "print(f'Yield received from daily compounding: ${return_from_daily_compounding}')\n",
    "print(f'Value Received Including Yield: ${return_from_daily_compounding+value_received}')\n",
    "print(f'Profit: ${return_from_daily_compounding+value_received-total_value_supp} | {(return_from_daily_compounding+value_received-total_value_supp)/total_value_supp}$')"
   ],
   "outputs": [
    {
     "output_type": "stream",
     "name": "stdout",
     "text": [
      "Quantity of WETH after 10 days: 8.58116330321033\n",
      "Quantity of USDC after 10 days: 47196.39816765682\n",
      "Total Position Value at T1: 94392.79633531364\n",
      "Debt Ratio: 0.699205898780101\n",
      "Liquidated: False\n",
      "Value Received after closing: 28392.796335313644\n",
      "PnL: -1607.2036646863562 | -5.3573455489545205%\n",
      "APY: 393.5743723773979%\n",
      "Yield received from daily compounding: $1305.3857032688293\n",
      "Value Received Including Yield: $29698.182038582472\n",
      "Profit: $-301.81796141752784 | -0.010060598713917594$\n"
     ]
    }
   ],
   "metadata": {}
  },
  {
   "cell_type": "markdown",
   "source": [
    "#### * Since APY is volatile, I took the average of opening value and closing value and multiply the APR, compounding daily"
   ],
   "metadata": {}
  },
  {
   "cell_type": "markdown",
   "source": [
    "## Position 2: "
   ],
   "metadata": {}
  },
  {
   "cell_type": "markdown",
   "source": [
    "## At $T_0$"
   ],
   "metadata": {}
  },
  {
   "cell_type": "code",
   "execution_count": 4,
   "source": [
    "asset_X_quant_owned = 0\n",
    "asset_X_price = 5000\n",
    "asset_Y_quant_owned = 30000\n",
    "asset_Y_price = 1 \n",
    "leverage = 3\n",
    "apr = 2\n",
    "borrowing_interest = 0.4\n",
    "farming_duration_in_days = 10\n",
    "liquidation_threshold = 0.8\n",
    "liquidation_fee = 0.05\n",
    "\n",
    "total_value_supp = asset_X_quant_owned * asset_X_price + asset_Y_quant_owned * asset_Y_price\n",
    "\n",
    "if asset_X_quant_owned == 0:\n",
    "    amount_asset_borrowed = ((leverage - 1) * total_value_supp)/asset_X_price\n",
    "else:\n",
    "    amount_asset_borrowed = ((leverage - 1) * total_value_supp)/asset_Y_price\n",
    "\n",
    "total_position_value = total_value_supp * leverage\n",
    "value_of_asset_borrowed = total_position_value - total_value_supp\n",
    "number_of_asset_X_including_borrowed = total_position_value/2/asset_X_price\n",
    "number_of_asset_Y_including_borrowed = total_position_value/2/asset_Y_price\n",
    "\n",
    "debt_ratio = value_of_asset_borrowed/total_position_value \n",
    "\n",
    "k = number_of_asset_Y_including_borrowed*number_of_asset_X_including_borrowed\n",
    "\n",
    "print(\"Position 2: \")\n",
    "print(f'Borrowing: {asset_X}')\n",
    "print(f\"{asset_X} Quantity: {asset_X_quant_owned}\")\n",
    "print(f\"{asset_X} Price: ${asset_X_price}\")\n",
    "print(f\"{asset_Y} Quantity: {asset_Y_quant_owned}\")\n",
    "print(f\"{asset_Y} Price: ${asset_Y_price}\")\n",
    "print(f'Leverage: {leverage}')\n",
    "print(f'Debt ratio: {debt_ratio}')\n",
    "print(f'Liquidation Threshold(will be liquidated if debt ratio > liquidation threshold): {liquidation_threshold}')\n",
    "print(f'Liquidation Fee: {liquidation_fee}')\n",
    "print(f'Quantity of {asset_X}: {number_of_asset_X_including_borrowed}')\n",
    "print(f'Quantity of {asset_Y}: {number_of_asset_Y_including_borrowed}')\n",
    "print(f\"Farming Duration: {farming_duration_in_days} days\")\n",
    "print(f'Annul APR(including trading fees and reward token): {apr}')\n",
    "print(f'Borrowing interest: {borrowing_interest}')"
   ],
   "outputs": [
    {
     "output_type": "stream",
     "name": "stdout",
     "text": [
      "Position 2: \n",
      "Borrowing: WETH\n",
      "WETH Quantity: 0\n",
      "WETH Price: $5000\n",
      "USDC Quantity: 30000\n",
      "USDC Price: $1\n",
      "Leverage: 3\n",
      "Debt ratio: 0.6666666666666666\n",
      "Liquidation Threshold(will be liquidated if debt ratio > liquidation threshold): 0.8\n",
      "Liquidation Fee: 0.05\n",
      "Quantity of WETH: 9.0\n",
      "Quantity of USDC: 45000.0\n",
      "Farming Duration: 10 days\n",
      "Annul APR(including trading fees and reward token): 2\n",
      "Borrowing interest: 0.4\n"
     ]
    }
   ],
   "metadata": {}
  },
  {
   "cell_type": "markdown",
   "source": [
    "## At $T_1$, price X increased by 10%"
   ],
   "metadata": {}
  },
  {
   "cell_type": "code",
   "execution_count": 5,
   "source": [
    "X_price_change_percentage = 0.1\n",
    "Y_price_change_percentage = 0\n",
    "\n",
    "asset_X_price_t1 = asset_X_price * (1+X_price_change_percentage)\n",
    "asset_Y_price_t1 = asset_Y_price * (1+Y_price_change_percentage)\n",
    "\n",
    "price_of_X_in_term_of_Y = asset_Y_price_t1/asset_X_price_t1\n",
    "\n",
    "quantity_of_Y_t1 = math.sqrt(k/price_of_X_in_term_of_Y)\n",
    "quantity_of_X_t1 = k/quantity_of_Y_t1\n",
    "\n",
    "total_position_value_t1 = quantity_of_X_t1 * asset_X_price_t1 + quantity_of_Y_t1 * asset_Y_price_t1\n",
    "debt_t1 = asset_X_price_t1*amount_asset_borrowed if asset_X_quant_owned == 0 else asset_Y_price_t1*amount_asset_borrowed\n",
    "\n",
    "debt_ratio_t1 = (debt_t1)/total_position_value_t1\n",
    "value_received = total_position_value_t1 - debt_t1 if debt_ratio_t1 < liquidation_threshold else (total_position_value_t1*debt_t1)*liquidation_fee\n",
    "\n",
    "apy = ((apr-borrowing_interest)/365+1)**365-1\n",
    "\n",
    "return_from_daily_compounding = (((apr-borrowing_interest)/365+1)**farming_duration_in_days-1)*statistics.mean([value_received, total_value_supp])\n",
    "\n",
    "print(f'Quantity of {asset_X} after {farming_duration_in_days} days: {quantity_of_X_t1}') \n",
    "print(f'Quantity of {asset_Y} after {farming_duration_in_days} days: {quantity_of_Y_t1}') \n",
    "print(f'Total Position Value at T1: {total_position_value_t1}')\n",
    "print(f'Debt Ratio: {debt_ratio_t1}')\n",
    "print(f'Liquidated: {debt_ratio_t1 > liquidation_threshold}')\n",
    "print(f'Value Received after closing: {value_received}')\n",
    "print(f'PnL: {value_received - total_value_supp} | {100*(value_received-total_value_supp)/total_value_supp}%')\n",
    "print(f'APY: {apy*100}%')\n",
    "print(f'Yield received from daily compounding: ${return_from_daily_compounding}')\n",
    "print(f'Value Received Including Yield: ${return_from_daily_compounding+value_received}')\n",
    "print(f'Profit: ${return_from_daily_compounding+value_received-total_value_supp} | {(return_from_daily_compounding+value_received-total_value_supp)/total_value_supp}$')"
   ],
   "outputs": [
    {
     "output_type": "stream",
     "name": "stdout",
     "text": [
      "0.699205898780101\n",
      "Quantity of WETH after 10 days: 8.58116330321033\n",
      "Quantity of USDC after 10 days: 47196.39816765682\n",
      "Total Position Value at T1: 94392.79633531364\n",
      "Debt Ratio: 0.699205898780101\n",
      "Liquidated: False\n",
      "Value Received after closing: 28392.796335313644\n",
      "PnL: -1607.2036646863562 | -5.3573455489545205%\n",
      "APY: 393.5743723773979%\n",
      "Yield received from daily compounding: $1305.3857032688293\n",
      "Value Received Including Yield: $29698.182038582472\n",
      "Profit: $-301.81796141752784 | -0.010060598713917594$\n"
     ]
    }
   ],
   "metadata": {}
  },
  {
   "cell_type": "markdown",
   "source": [
    "## In conclusion, a 10% price increase of asset X(WETH) relative to asset Y(USDC) will result in a net profit of 1944.1 - 301.8 = $1642.3 "
   ],
   "metadata": {}
  },
  {
   "cell_type": "markdown",
   "source": [
    "# But...\n",
    "### What if the price of asset X decreases? \n",
    "### What if asset X increases by more than 30% relative to asset Y? "
   ],
   "metadata": {}
  },
  {
   "cell_type": "markdown",
   "source": [
    "## Let's model the price dynamic below\n"
   ],
   "metadata": {}
  },
  {
   "cell_type": "code",
   "execution_count": 45,
   "source": [
    "# write the above steps into a function, I know it's ugly...\n",
    "def profit_calc(x: int, x_price:int, y: int, y_price: int, x_price_change: float, y_price_change: float, leverage: int, apr: float, borrowing_interest: float, duration: int, liq_threshold: float, liq_fee: float):\n",
    "\n",
    "    if x != 0 and y != 0:\n",
    "        print(\"can only borrow one asset\")\n",
    "        return\n",
    "\n",
    "    total_value_supp = x*x_price + y*y_price\n",
    "    amount_asset_borrowed = ((leverage - 1) * total_value_supp)/x_price if x == 0 else ((leverage - 1) * total_value_supp)/y_price\n",
    "\n",
    "    total_position_value = total_value_supp * leverage\n",
    "    number_of_asset_X_including_borrowed = total_position_value/2/asset_X_price\n",
    "    number_of_asset_Y_including_borrowed = total_position_value/2/asset_Y_price\n",
    "    k = number_of_asset_Y_including_borrowed*number_of_asset_X_including_borrowed\n",
    "\n",
    "    asset_X_price_t1 = asset_X_price * (1+x_price_change)\n",
    "    asset_Y_price_t1 = asset_Y_price * (1+y_price_change)\n",
    "\n",
    "    price_of_X_in_term_of_Y = asset_Y_price_t1/asset_X_price_t1\n",
    "\n",
    "    quantity_of_Y_t1 = math.sqrt(k/price_of_X_in_term_of_Y)\n",
    "    quantity_of_X_t1 = k/quantity_of_Y_t1\n",
    "\n",
    "    total_position_value_t1 = quantity_of_X_t1 * asset_X_price_t1 + quantity_of_Y_t1 * asset_Y_price_t1\n",
    "    debt_t1 = asset_X_price_t1*amount_asset_borrowed if x == 0 else asset_Y_price_t1*amount_asset_borrowed\n",
    "\n",
    "    debt_ratio_t1 = (debt_t1)/total_position_value_t1\n",
    "    value_received = total_position_value_t1 - debt_t1 if debt_ratio_t1 < liq_threshold else (total_position_value_t1 - debt_t1)*liq_fee\n",
    "\n",
    "    return_from_daily_compounding = (((apr-borrowing_interest)/365+1)**duration-1)*statistics.mean([value_received, total_value_supp])\n",
    "    return return_from_daily_compounding+value_received-total_value_supp"
   ],
   "outputs": [],
   "metadata": {}
  },
  {
   "cell_type": "code",
   "execution_count": 47,
   "source": [
    "import numpy as np\n",
    "# graph the price movement from -100% to 100%\n",
    "for i in np.arange(-0.5, 0.5, 0.01):\n",
    "    print(\n",
    "    profit_calc(2, 5000, 0, 1, i, 0, 3.0, 2.0, 0.4, 10, 0.8, 0.95)\n",
    "    )\n",
    "# profit_calc(0, 5000, 30000, 1, 0.1, 0, 3.0, 2.0, 0.4, 10, 0.8, 0.05"
   ],
   "outputs": [
    {
     "output_type": "stream",
     "name": "stdout",
     "text": [
      "-8598.138816074317\n",
      "-8393.12820990121\n",
      "-8190.117850707643\n",
      "-7989.050308464283\n",
      "-7789.8708498135375\n",
      "-7592.52726405636\n",
      "-7396.969703315393\n",
      "-7203.15053548794\n",
      "-7011.024208759775\n",
      "-6820.547126587884\n",
      "-6631.677532180129\n",
      "-6444.375401604689\n",
      "-6258.602344754172\n",
      "-6074.321513470274\n",
      "-5891.497516206198\n",
      "-5710.096338667017\n",
      "-5530.085269924098\n",
      "-5351.432833548914\n",
      "-5174.1087233557755\n",
      "-4998.083743381934\n",
      "-4562.639345255668\n",
      "-4379.997088906252\n",
      "-4198.636580111267\n",
      "-4018.5312065847966\n",
      "-3839.6552643854166\n",
      "-3661.9839150941643\n",
      "-3485.493145553576\n",
      "-3310.159729983061\n",
      "-3135.961194301446\n",
      "-2962.8757825014764\n",
      "-2790.882424933853\n",
      "-2619.9607083699475\n",
      "-2450.090847722773\n",
      "-2281.253659315257\n",
      "-2113.4305355936613\n",
      "-1946.6034211917158\n",
      "-1780.754790258412\n",
      "-1615.8676249687287\n",
      "-1451.9253951428436\n",
      "-1288.9120389046802\n",
      "-1126.8119443157138\n",
      "-965.6099319246605\n",
      "-805.2912381777733\n",
      "-645.8414996384563\n",
      "-487.2467379684949\n",
      "-329.49334562637705\n",
      "-172.56807224138174\n",
      "-16.458011624710707\n",
      "138.84941061822974\n",
      "293.3664489082166\n",
      "447.1050489765312\n",
      "600.0768586427967\n",
      "752.2932381137362\n",
      "903.765269828602\n",
      "1054.5037678755998\n",
      "1204.5192870017\n",
      "1353.8221312372716\n",
      "1502.4223621554029\n",
      "1650.3298067846554\n",
      "1797.5540651928513\n",
      "1944.104517758482\n",
      "2089.9903321452985\n",
      "2235.2204699947724\n",
      "2379.8036933502426\n",
      "2523.7485708257755\n",
      "2667.0634835320725\n",
      "2809.7566307709294\n",
      "2951.8360355093137\n",
      "3093.309549643285\n",
      "3234.184859061639\n",
      "3374.4694885184017\n",
      "3514.1708063230108\n",
      "3653.2960288564664\n",
      "3791.85222492112\n",
      "3929.8463199317375\n",
      "4067.28509995475\n",
      "4204.175215602334\n",
      "4340.523185787741\n",
      "4476.3354013477365\n",
      "4611.618128538055\n",
      "4746.377512407051\n",
      "4880.619580052831\n",
      "5014.3502437686475\n",
      "5147.575304081398\n",
      "5280.300452687363\n",
      "5412.531275289601\n",
      "5544.273254340918\n",
      "5675.531771696291\n",
      "5806.3121111782475\n",
      "5936.619461058754\n",
      "6066.458916460975\n",
      "6195.83548168386\n",
      "6324.754072452744\n",
      "6453.2195180987\n",
      "6581.236563669496\n",
      "6708.809871974587\n",
      "6835.944025566907\n",
      "6962.6435286634805\n",
      "7088.9128090075355\n",
      "7214.756219673953\n"
     ]
    }
   ],
   "metadata": {}
  }
 ],
 "metadata": {
  "orig_nbformat": 4,
  "language_info": {
   "name": "python",
   "version": "3.9.7",
   "mimetype": "text/x-python",
   "codemirror_mode": {
    "name": "ipython",
    "version": 3
   },
   "pygments_lexer": "ipython3",
   "nbconvert_exporter": "python",
   "file_extension": ".py"
  },
  "kernelspec": {
   "name": "python3",
   "display_name": "Python 3.9.7 64-bit"
  },
  "interpreter": {
   "hash": "e7370f93d1d0cde622a1f8e1c04877d8463912d04d973331ad4851f04de6915a"
  }
 },
 "nbformat": 4,
 "nbformat_minor": 2
}