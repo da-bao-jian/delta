{
 "cells": [
  {
   "cell_type": "markdown",
   "source": [
    "# Defi Delta Neutral(Not Really) Strategy \n",
    "### When it comes down to delta neutral strategies, spot/perp basis trading, fut/perp cash-n-carry are quite common on CEXs these days. \n",
    "\n",
    "### Now, the advent of leveraged farming has brought the delta neutral to the DeFi space. However, due to AMMs' nature, impermnant loss makes having a perfect delta neutral strategy hard to implement. That's why this is \"not really\" a delta neutral play by definition. \n",
    "### Nevertheless, with proper risk management, dynamic delta hedging, and careful asset selection, on-chain strategies I will present below can achieve similar outcome. With CEX deirivative products, it can even outperform purely CEX delta-neutral strategies under certain market conditions(I will elaborate toward the end).   \n"
   ],
   "metadata": {}
  },
  {
   "cell_type": "markdown",
   "source": [
    "## Before code and fancy graphs, let me expain how to achieve quasi delta neutral on-chain"
   ],
   "metadata": {}
  },
  {
   "cell_type": "markdown",
   "source": [
    "### Let's use Tuplip/Solfarm as our trading platform because it's the one I used the most often lately, credit to Solana's low fee and high throughput properties. \n",
    "\n",
    "### Say we want to farm WETH/USDC pairs, but don't want directional risk. \n",
    "### Additionally, we have $40000 at disposal.\n",
    "### Currently, WETH is trading at $5000 and USDC at $1 \n",
    "### We could open two positions:\n",
    "### Position 1: \n",
    "###  - put down 10k to buy WETH and borrow 20k using 3x Leverage(maximum leverage allowed on Tulip). By opening this position, we are essentially faming 15k worth of WETH and 15k worth of USDC. To achieve the 50/50 split, we are borrowing 15k USDC and 5k WETH. Therefore, we will have a 15k WETH long exposure. \n",
    "### Position 2:\n",
    "### - put down another 30k to buy USDC and borrow 60k worth of WETH using 3x leverage. By opening this position, we are farming 45k WETH and 45k USDC. The difference is we will have a 15k WETH short exposure because of the borrowed 15k USDC. "
   ],
   "metadata": {}
  },
  {
   "cell_type": "markdown",
   "source": [
    "<br><br>\n",
    "## Now let's dive into the numbers:"
   ],
   "metadata": {}
  },
  {
   "cell_type": "code",
   "execution_count": 1,
   "source": [
    "asset_X = \"WETH\"\n",
    "asset_Y = \"USDC\""
   ],
   "outputs": [],
   "metadata": {}
  },
  {
   "cell_type": "markdown",
   "source": [
    "## Position 1: "
   ],
   "metadata": {}
  },
  {
   "cell_type": "markdown",
   "source": [
    "## At $T_0$"
   ],
   "metadata": {}
  },
  {
   "cell_type": "code",
   "execution_count": 2,
   "source": [
    "asset_X_quant_owned = 2\n",
    "asset_X_price = 5000\n",
    "asset_Y_quant_owned = 0\n",
    "asset_Y_price = 1 \n",
    "leverage = 3\n",
    "apr = 2\n",
    "borrowing_interest = 0.4\n",
    "farming_duration_in_days = 10\n",
    "liquidation_threshold = 0.8\n",
    "liquidation_fee = 0.05\n",
    "\n",
    "total_value_supp = asset_X_quant_owned * asset_X_price + asset_Y_quant_owned * asset_Y_price\n",
    "\n",
    "if asset_X_quant_owned == 0:\n",
    "    amount_asset_borrowed = ((leverage - 1) * total_value_supp)/asset_X_price\n",
    "else:\n",
    "    amount_asset_borrowed = ((leverage - 1) * total_value_supp)/asset_Y_price\n",
    "\n",
    "\n",
    "total_position_value = total_value_supp * leverage\n",
    "value_of_asset_borrowed = total_position_value - total_value_supp\n",
    "number_of_asset_X_including_borrowed = total_position_value/2/asset_X_price\n",
    "number_of_asset_Y_including_borrowed = total_position_value/2/asset_Y_price\n",
    "\n",
    "debt_ratio = value_of_asset_borrowed/total_position_value \n",
    "\n",
    "k = number_of_asset_Y_including_borrowed*number_of_asset_X_including_borrowed\n",
    "\n",
    "print(\"Position 2: \")\n",
    "print(f'Borrowing: {asset_X}')\n",
    "print(f\"{asset_X} Quantity: {asset_X_quant_owned}\")\n",
    "print(f\"{asset_X} Price: ${asset_X_price}\")\n",
    "print(f\"{asset_Y} Quantity: {asset_Y_quant_owned}\")\n",
    "print(f\"{asset_Y} Price: ${asset_Y_price}\")\n",
    "print(f'Leverage: {leverage}')\n",
    "print(f'Debt ratio: {debt_ratio}')\n",
    "print(f'Liquidation Threshold(will be liquidated if debt ratio > liquidation threshold): {liquidation_threshold}')\n",
    "print(f'Liquidation Fee: {liquidation_fee}')\n",
    "print(f'Quantity of {asset_X}: {number_of_asset_X_including_borrowed}')\n",
    "print(f'Quantity of {asset_Y}: {number_of_asset_Y_including_borrowed}')\n",
    "print(f\"Farming Duration: {farming_duration_in_days} days\")\n",
    "print(f'Annul APR(including trading fees and reward token): {apr}')\n",
    "print(f'Borrowing interest: {borrowing_interest}')\n"
   ],
   "outputs": [
    {
     "output_type": "stream",
     "name": "stdout",
     "text": [
      "Position 2: \n",
      "Borrowing: WETH\n",
      "WETH Quantity: 2\n",
      "WETH Price: $5000\n",
      "USDC Quantity: 0\n",
      "USDC Price: $1\n",
      "Leverage: 3\n",
      "Debt ratio: 0.6666666666666666\n",
      "Liquidation Threshold(will be liquidated if debt ratio > liquidation threshold): 0.8\n",
      "Liquidation Fee: 0.05\n",
      "Quantity of WETH: 3.0\n",
      "Quantity of USDC: 15000.0\n",
      "Farming Duration: 10 days\n",
      "Annul APR(including trading fees and reward token): 2\n",
      "Borrowing interest: 0.4\n"
     ]
    }
   ],
   "metadata": {}
  },
  {
   "cell_type": "markdown",
   "source": [
    "## At $T_1$, price X increased by 10%\n",
    "### * for impermnant loss calculation, refer to [impermnant_loss_calculator.ipynb](https://github.com/da-bao-jian/delta/blob/master/impermnant_loss_calculator.ipynb)"
   ],
   "metadata": {}
  },
  {
   "cell_type": "code",
   "execution_count": 3,
   "source": [
    "import math, statistics\n",
    "X_price_change_percentage = 0.1\n",
    "Y_price_change_percentage = 0\n",
    "\n",
    "asset_X_price_t1 = asset_X_price * (1+X_price_change_percentage)\n",
    "asset_Y_price_t1 = asset_Y_price * (1+Y_price_change_percentage)\n",
    "\n",
    "price_of_X_in_term_of_Y = asset_Y_price_t1/asset_X_price_t1\n",
    "\n",
    "quantity_of_Y_t1 = math.sqrt(k/price_of_X_in_term_of_Y)\n",
    "quantity_of_X_t1 = k/quantity_of_Y_t1\n",
    "\n",
    "total_position_value_t1 = quantity_of_X_t1 * asset_X_price_t1 + quantity_of_Y_t1 * asset_Y_price_t1\n",
    "debt_t1 = asset_X_price_t1*amount_asset_borrowed if asset_X_quant_owned == 0 else asset_Y_price_t1*amount_asset_borrowed\n",
    "\n",
    "debt_ratio_t1 = (debt_t1)/total_position_value_t1\n",
    "value_received = total_position_value_t1 - debt_t1 if debt_ratio_t1 < liquidation_threshold else (total_position_value_t1*debt_t1)*liquidation_fee\n",
    "\n",
    "apy = ((apr-borrowing_interest)/365+1)**365-1\n",
    "\n",
    "return_from_daily_compounding = (((apr-borrowing_interest)/365+1)**farming_duration_in_days-1)*statistics.mean([value_received, total_value_supp])\n",
    "print(return_from_daily_compounding)\n",
    "print(f'Quantity of {asset_X} after {farming_duration_in_days} days: {quantity_of_X_t1}') \n",
    "print(f'Quantity of {asset_Y} after {farming_duration_in_days} days: {quantity_of_Y_t1}') \n",
    "print(f'Total Position Value at T1: {total_position_value_t1}')\n",
    "print(f'Debt Ratio: {debt_ratio_t1}')\n",
    "print(f'Liquidated: {debt_ratio_t1 > liquidation_threshold}')\n",
    "print(f'Value Received after closing: {value_received}')\n",
    "print(f'PnL: {value_received - total_value_supp} | {100*(value_received-total_value_supp)/total_value_supp}%')\n",
    "print(f'APY: {apy*100}%')\n",
    "print(f'Yield received from daily compounding: ${return_from_daily_compounding}')\n",
    "print(f'Value Received Including Yield: ${return_from_daily_compounding+value_received}')\n",
    "print(f'Profit: ${return_from_daily_compounding+value_received-total_value_supp} | {(return_from_daily_compounding+value_received-total_value_supp)/total_value_supp}$')"
   ],
   "outputs": [
    {
     "output_type": "stream",
     "name": "stdout",
     "text": [
      "479.8390726539288\n",
      "Quantity of WETH after 10 days: 2.8603877677367766\n",
      "Quantity of USDC after 10 days: 15732.132722552275\n",
      "Total Position Value at T1: 31464.265445104546\n",
      "Debt Ratio: 0.6356417261637283\n",
      "Liquidated: False\n",
      "Value Received after closing: 11464.265445104546\n",
      "PnL: 1464.2654451045455 | 14.642654451045455%\n",
      "APY: 393.5743723773979%\n",
      "Yield received from daily compounding: $479.8390726539288\n",
      "Value Received Including Yield: $11944.104517758475\n",
      "Profit: $1944.1045177584747 | 0.19441045177584748$\n"
     ]
    }
   ],
   "metadata": {}
  },
  {
   "cell_type": "markdown",
   "source": [
    "#### * Since APY is volatile, I took the average of opening value and closing value and multiply the APR, compounding daily"
   ],
   "metadata": {}
  },
  {
   "cell_type": "markdown",
   "source": [
    "## Position 2: "
   ],
   "metadata": {}
  },
  {
   "cell_type": "markdown",
   "source": [
    "## At $T_0$"
   ],
   "metadata": {}
  },
  {
   "cell_type": "code",
   "execution_count": 4,
   "source": [
    "asset_X_quant_owned = 0\n",
    "asset_X_price = 5000\n",
    "asset_Y_quant_owned = 30000\n",
    "asset_Y_price = 1 \n",
    "leverage = 3\n",
    "apr = 2\n",
    "borrowing_interest = 0.4\n",
    "farming_duration_in_days = 10\n",
    "liquidation_threshold = 0.8\n",
    "liquidation_fee = 0.05\n",
    "\n",
    "total_value_supp = asset_X_quant_owned * asset_X_price + asset_Y_quant_owned * asset_Y_price\n",
    "\n",
    "if asset_X_quant_owned == 0:\n",
    "    amount_asset_borrowed = ((leverage - 1) * total_value_supp)/asset_X_price\n",
    "else:\n",
    "    amount_asset_borrowed = ((leverage - 1) * total_value_supp)/asset_Y_price\n",
    "\n",
    "total_position_value = total_value_supp * leverage\n",
    "value_of_asset_borrowed = total_position_value - total_value_supp\n",
    "number_of_asset_X_including_borrowed = total_position_value/2/asset_X_price\n",
    "number_of_asset_Y_including_borrowed = total_position_value/2/asset_Y_price\n",
    "\n",
    "debt_ratio = value_of_asset_borrowed/total_position_value \n",
    "\n",
    "k = number_of_asset_Y_including_borrowed*number_of_asset_X_including_borrowed\n",
    "\n",
    "print(\"Position 2: \")\n",
    "print(f'Borrowing: {asset_X}')\n",
    "print(f\"{asset_X} Quantity: {asset_X_quant_owned}\")\n",
    "print(f\"{asset_X} Price: ${asset_X_price}\")\n",
    "print(f\"{asset_Y} Quantity: {asset_Y_quant_owned}\")\n",
    "print(f\"{asset_Y} Price: ${asset_Y_price}\")\n",
    "print(f'Leverage: {leverage}')\n",
    "print(f'Debt ratio: {debt_ratio}')\n",
    "print(f'Liquidation Threshold(will be liquidated if debt ratio > liquidation threshold): {liquidation_threshold}')\n",
    "print(f'Liquidation Fee: {liquidation_fee}')\n",
    "print(f'Quantity of {asset_X}: {number_of_asset_X_including_borrowed}')\n",
    "print(f'Quantity of {asset_Y}: {number_of_asset_Y_including_borrowed}')\n",
    "print(f\"Farming Duration: {farming_duration_in_days} days\")\n",
    "print(f'Annul APR(including trading fees and reward token): {apr}')\n",
    "print(f'Borrowing interest: {borrowing_interest}')"
   ],
   "outputs": [
    {
     "output_type": "stream",
     "name": "stdout",
     "text": [
      "Position 2: \n",
      "Borrowing: WETH\n",
      "WETH Quantity: 0\n",
      "WETH Price: $5000\n",
      "USDC Quantity: 30000\n",
      "USDC Price: $1\n",
      "Leverage: 3\n",
      "Debt ratio: 0.6666666666666666\n",
      "Liquidation Threshold(will be liquidated if debt ratio > liquidation threshold): 0.8\n",
      "Liquidation Fee: 0.05\n",
      "Quantity of WETH: 9.0\n",
      "Quantity of USDC: 45000.0\n",
      "Farming Duration: 10 days\n",
      "Annul APR(including trading fees and reward token): 2\n",
      "Borrowing interest: 0.4\n"
     ]
    }
   ],
   "metadata": {}
  },
  {
   "cell_type": "markdown",
   "source": [
    "## At $T_1$, price X increased by 10%"
   ],
   "metadata": {}
  },
  {
   "cell_type": "code",
   "execution_count": 5,
   "source": [
    "X_price_change_percentage = 0.1\n",
    "Y_price_change_percentage = 0\n",
    "\n",
    "asset_X_price_t1 = asset_X_price * (1+X_price_change_percentage)\n",
    "asset_Y_price_t1 = asset_Y_price * (1+Y_price_change_percentage)\n",
    "\n",
    "price_of_X_in_term_of_Y = asset_Y_price_t1/asset_X_price_t1\n",
    "\n",
    "quantity_of_Y_t1 = math.sqrt(k/price_of_X_in_term_of_Y)\n",
    "quantity_of_X_t1 = k/quantity_of_Y_t1\n",
    "\n",
    "total_position_value_t1 = quantity_of_X_t1 * asset_X_price_t1 + quantity_of_Y_t1 * asset_Y_price_t1\n",
    "debt_t1 = asset_X_price_t1*amount_asset_borrowed if asset_X_quant_owned == 0 else asset_Y_price_t1*amount_asset_borrowed\n",
    "\n",
    "debt_ratio_t1 = (debt_t1)/total_position_value_t1\n",
    "value_received = total_position_value_t1 - debt_t1 if debt_ratio_t1 < liquidation_threshold else (total_position_value_t1*debt_t1)*liquidation_fee\n",
    "\n",
    "apy = ((apr-borrowing_interest)/365+1)**365-1\n",
    "\n",
    "return_from_daily_compounding = (((apr-borrowing_interest)/365+1)**farming_duration_in_days-1)*statistics.mean([value_received, total_value_supp])\n",
    "print(debt_ratio_t1)\n",
    "\n",
    "print(f'Quantity of {asset_X} after {farming_duration_in_days} days: {quantity_of_X_t1}') \n",
    "print(f'Quantity of {asset_Y} after {farming_duration_in_days} days: {quantity_of_Y_t1}') \n",
    "print(f'Total Position Value at T1: {total_position_value_t1}')\n",
    "print(f'Debt Ratio: {debt_ratio_t1}')\n",
    "print(f'Liquidated: {debt_ratio_t1 > liquidation_threshold}')\n",
    "print(f'Value Received after closing: {value_received}')\n",
    "print(f'PnL: {value_received - total_value_supp} | {100*(value_received-total_value_supp)/total_value_supp}%')\n",
    "print(f'APY: {apy*100}%')\n",
    "print(f'Yield received from daily compounding: ${return_from_daily_compounding}')\n",
    "print(f'Value Received Including Yield: ${return_from_daily_compounding+value_received}')\n",
    "print(f'Profit: ${return_from_daily_compounding+value_received-total_value_supp} | {(return_from_daily_compounding+value_received-total_value_supp)/total_value_supp}$')"
   ],
   "outputs": [
    {
     "output_type": "stream",
     "name": "stdout",
     "text": [
      "0.699205898780101\n",
      "Quantity of WETH after 10 days: 8.58116330321033\n",
      "Quantity of USDC after 10 days: 47196.39816765682\n",
      "Total Position Value at T1: 94392.79633531364\n",
      "Debt Ratio: 0.699205898780101\n",
      "Liquidated: False\n",
      "Value Received after closing: 28392.796335313644\n",
      "PnL: -1607.2036646863562 | -5.3573455489545205%\n",
      "APY: 393.5743723773979%\n",
      "Yield received from daily compounding: $1305.3857032688293\n",
      "Value Received Including Yield: $29698.182038582472\n",
      "Profit: $-301.81796141752784 | -0.010060598713917594$\n"
     ]
    }
   ],
   "metadata": {}
  },
  {
   "cell_type": "markdown",
   "source": [
    "## In conclusion, a 10% price increase of asset X(WETH) relative to asset Y(USDC) will result in a net profit of 1944.1 - 301.8 = $1642.3 "
   ],
   "metadata": {}
  },
  {
   "cell_type": "markdown",
   "source": [
    "# But...\n",
    "### What if the price of asset X decreases? \n",
    "### What if asset X increases by more than 30% relative to asset Y? "
   ],
   "metadata": {}
  },
  {
   "cell_type": "markdown",
   "source": [
    "## Let's model the price dynamic below\n"
   ],
   "metadata": {}
  },
  {
   "cell_type": "code",
   "execution_count": 6,
   "source": [
    "# write the above steps into a function, In know it's ugly\n",
    "def profit_calc(x: int, x_price:int, y: int, y_price: int, x_price_change: float, y_price_change: float, leverage: int, apr: float, borrowing_interest: float, duration: int, liq_threshold: float, liq_fee: float):\n",
    "\n",
    "    if x != 0 and y != 0:\n",
    "        print(\"can only borrow one asset\")\n",
    "        return\n",
    "\n",
    "    total_value_supp = x*x_price + y*y_price\n",
    "    amount_asset_borrowed = ((leverage - 1) * total_value_supp)/x_price if x == 0 else ((leverage - 1) * total_value_supp)/y_price\n",
    "\n",
    "    total_position_value = total_value_supp * leverage\n",
    "    number_of_asset_X_including_borrowed = total_position_value/2/asset_X_price\n",
    "    number_of_asset_Y_including_borrowed = total_position_value/2/asset_Y_price\n",
    "    k = number_of_asset_Y_including_borrowed*number_of_asset_X_including_borrowed\n",
    "\n",
    "    asset_X_price_t1 = asset_X_price * (1+x_price_change)\n",
    "    asset_Y_price_t1 = asset_Y_price * (1+y_price_change)\n",
    "\n",
    "    price_of_X_in_term_of_Y = asset_Y_price_t1/asset_X_price_t1\n",
    "\n",
    "    quantity_of_Y_t1 = math.sqrt(k/price_of_X_in_term_of_Y)\n",
    "    quantity_of_X_t1 = k/quantity_of_Y_t1\n",
    "\n",
    "    total_position_value_t1 = quantity_of_X_t1 * asset_X_price_t1 + quantity_of_Y_t1 * asset_Y_price_t1\n",
    "    debt_t1 = asset_X_price_t1*amount_asset_borrowed if x == 0 else asset_Y_price_t1*amount_asset_borrowed\n",
    "\n",
    "    debt_ratio_t1 = (debt_t1)/total_position_value_t1\n",
    "    value_received = total_position_value_t1 - debt_t1 if debt_ratio_t1 < liq_threshold else (total_position_value_t1*debt_t1)*liq_fee\n",
    "\n",
    "    return_from_daily_compounding = (((apr-borrowing_interest)/365+1)**duration-1)*statistics.mean([value_received, total_value_supp])\n",
    "    print(x)\n",
    "    return return_from_daily_compounding+value_received-total_value_supp"
   ],
   "outputs": [],
   "metadata": {}
  },
  {
   "cell_type": "code",
   "execution_count": 7,
   "source": [
    "profit_calc(2, 5000, 0, 1, 0.1, 0, 3.0, 2.0, 0.4, 10, 0.8, 0.05)\n",
    "profit_calc(0, 5000, 30000, 1, 0.1, 0, 3.0, 2.0, 0.4, 10, 0.8, 0.05)"
   ],
   "outputs": [
    {
     "output_type": "stream",
     "name": "stdout",
     "text": [
      "0\n"
     ]
    },
    {
     "output_type": "execute_result",
     "data": {
      "text/plain": [
       "-301.81796141752784"
      ]
     },
     "metadata": {},
     "execution_count": 7
    }
   ],
   "metadata": {}
  }
 ],
 "metadata": {
  "orig_nbformat": 4,
  "language_info": {
   "name": "python",
   "version": "3.9.7",
   "mimetype": "text/x-python",
   "codemirror_mode": {
    "name": "ipython",
    "version": 3
   },
   "pygments_lexer": "ipython3",
   "nbconvert_exporter": "python",
   "file_extension": ".py"
  },
  "kernelspec": {
   "name": "python3",
   "display_name": "Python 3.9.7 64-bit"
  },
  "interpreter": {
   "hash": "e7370f93d1d0cde622a1f8e1c04877d8463912d04d973331ad4851f04de6915a"
  }
 },
 "nbformat": 4,
 "nbformat_minor": 2
}