{
 "cells": [
  {
   "cell_type": "markdown",
   "source": [
    "# Impermnant Loss \n",
    "\n",
    "## For AMMs using constant product formula: \n",
    "## $ x \\cdot y = k $\n",
    "\n",
    "### x: amount of token X in a given pool;\n",
    "\n",
    "### y: amount of token Y in a given pool;\n",
    "\n",
    "### k: constant product;"
   ],
   "metadata": {}
  },
  {
   "cell_type": "markdown",
   "source": [
    "### Price of x in terms of y could be expressed as \n",
    "### $P = \\frac{y}{x}$ \n",
    "### Therefore, constant product formula could be re-written as $xP* x = k$\n",
    "### Then, we have \n",
    "### $x = \\sqrt{\\frac{k}{P}}$\n",
    "### $y = \\sqrt{k * P}$"
   ],
   "metadata": {}
  },
  {
   "cell_type": "markdown",
   "source": [
    "\n",
    "## At $T_0$,\n",
    "### $Total\\ Value^* = y + xP = 2\\sqrt{k * P}$\n",
    "\n",
    "*total pool value in terms of y\n",
    "<!-- <br><br>\n",
    "## Now, P price change by $\\alpha$ \n",
    "###  -->"
   ],
   "metadata": {}
  },
  {
   "cell_type": "markdown",
   "source": [
    "# Example:"
   ],
   "metadata": {}
  },
  {
   "cell_type": "markdown",
   "source": [
    "## At $T_0$:\n",
    "### Pool: ETH/USDC \n",
    "### ETH Price: $500 \n",
    "### ETH Quantity(x): 20\n",
    "### USDC Price: $1  \n",
    "### USDC Quantity(y):10000        \n",
    "### Pool Ratio: $500\\cdot20$ / $1\\cdot10000$ = $1$/$1$\n",
    "### Constant Product(k) = $20\\cdot1000$ = $20000$"
   ],
   "metadata": {}
  },
  {
   "cell_type": "markdown",
   "source": [
    "\n",
    "## At $T_1$:\n",
    "### Pool: ETH/USDC \n",
    "### ETH Price: $550 \n",
    "### ETH Quantity(x): 20\n",
    "### USDC Price: $1  \n",
    "### USDC Quantity(y):10000        \n",
    "### Pool Ratio: $550\\cdot20$ / $1\\cdot10000$ = $11$/$10$"
   ],
   "metadata": {}
  }
 ],
 "metadata": {
  "orig_nbformat": 4,
  "language_info": {
   "name": "python",
   "version": "3.9.7",
   "mimetype": "text/x-python",
   "codemirror_mode": {
    "name": "ipython",
    "version": 3
   },
   "pygments_lexer": "ipython3",
   "nbconvert_exporter": "python",
   "file_extension": ".py"
  },
  "kernelspec": {
   "name": "python3",
   "display_name": "Python 3.9.7 64-bit"
  },
  "interpreter": {
   "hash": "e7370f93d1d0cde622a1f8e1c04877d8463912d04d973331ad4851f04de6915a"
  }
 },
 "nbformat": 4,
 "nbformat_minor": 2
}