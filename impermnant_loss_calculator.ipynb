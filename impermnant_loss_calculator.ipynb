{
 "cells": [
  {
   "cell_type": "markdown",
   "source": [
    "# Impermnant Loss \n",
    "\n",
    "## For AMMs using constant product formula: \n",
    "## $ x \\cdot y = k $\n",
    "\n",
    "### x: amount of token X in a given pool;\n",
    "\n",
    "### y: amount of token Y in a given pool;\n",
    "\n",
    "### k: constant product;"
   ],
   "metadata": {}
  },
  {
   "cell_type": "code",
   "execution_count": 3,
   "source": [
    "# Amount of each assets in the pool\n",
    "x = 20\n",
    "y = 10000\n",
    "k = x*y"
   ],
   "outputs": [],
   "metadata": {}
  },
  {
   "cell_type": "markdown",
   "source": [
    "### Price of x in terms of y could be expressed as \n",
    "### $P = \\frac{y}{x}$ \n",
    "### Therefore, constant product formula could be re-written as $xP* x = k$\n",
    "### Then, we have \n",
    "### $x = \\sqrt{\\frac{k}{P}}$\n",
    "### $y = \\sqrt{k * P}$"
   ],
   "metadata": {}
  },
  {
   "cell_type": "code",
   "execution_count": 4,
   "source": [
    "P = y/x"
   ],
   "outputs": [],
   "metadata": {}
  },
  {
   "cell_type": "markdown",
   "source": [
    "\n",
    "## At $T_0$,\n",
    "### $Total\\ Value^* = y + xP = 2\\sqrt{k * P}$\n",
    "\n",
    "*total value in terms of y\n",
    "<!-- <br><br>\n",
    "## Now, P price change by $\\alpha$ \n",
    "###  -->"
   ],
   "metadata": {}
  },
  {
   "cell_type": "code",
   "execution_count": 5,
   "source": [
    "total_value_T0 = y + x*P"
   ],
   "outputs": [],
   "metadata": {}
  },
  {
   "cell_type": "markdown",
   "source": [
    "## At $T_1$,\n",
    "### $P$ changes by $r$, where $r = 0.05$\n",
    "### Therefore, $Total\\ Value$ in the Pool, $V_p = 2\\sqrt{k * Pr}$\n",
    "*$V_P$ denotes asset value for farming in the pool"
   ],
   "metadata": {}
  },
  {
   "cell_type": "code",
   "execution_count": 8,
   "source": [
    "r = 0.05\n",
    "total_value_T1_farm = 2 * (y + x*P*r)"
   ],
   "outputs": [],
   "metadata": {}
  },
  {
   "cell_type": "markdown",
   "source": [
    "## Alternatively, at $T_1$, \n",
    "### had we HODLed X instead of putting it into the pool for farming\n",
    "### We would've had $Total\\ Value, V_h = y + xP \\cdot r = (1+r)\\sqrt{k*P}$\n",
    "*$V_h$ denotes asset value for hodling"
   ],
   "metadata": {}
  },
  {
   "cell_type": "code",
   "execution_count": 11,
   "source": [
    "import math\n",
    "total_value_T1_HODL = (1+r)*math.sqrt(k*P)"
   ],
   "outputs": [],
   "metadata": {}
  },
  {
   "cell_type": "markdown",
   "source": [
    "## Therefore,\n",
    "### $Impermnant\\ Loss = \\frac{V_p - V_h}{V_h} = \\frac{2\\sqrt{k \\cdot Pr} - (1+r)\\sqrt{k \\cdot P}}{ (1+r)\\sqrt{k \\cdot P}} = \\frac{2\\sqrt{r}}{1 + r} - 1$"
   ],
   "metadata": {}
  },
  {
   "cell_type": "code",
   "execution_count": 15,
   "source": [
    "impermnant_loss = (2*math.sqrt(r))/(1+r) - 1\n",
    "impermnant_loss"
   ],
   "outputs": [
    {
     "output_type": "execute_result",
     "data": {
      "text/plain": [
       "-0.5740822900000401"
      ]
     },
     "metadata": {},
     "execution_count": 15
    }
   ],
   "metadata": {}
  },
  {
   "cell_type": "markdown",
   "source": [
    "## Impermnant Loss relative to price change is graphed below"
   ],
   "metadata": {}
  },
  {
   "cell_type": "code",
   "execution_count": 46,
   "source": [
    "import matplotlib.pyplot as plt\n",
    "r_value = []\n",
    "il = []\n",
    "for i in range(0,1000):\n",
    "    r_value.append(i/100)\n",
    "for val in r_value:\n",
    "    il.append(((2*math.sqrt(val))/(1+val)) - 1)\n",
    "plt.plot(r_value, il,)\n",
    "plt.xlabel('Current price as x times of initial price i.e. 2 = 200%')\n",
    "plt.ylabel('Change in liquidity value')\n"
   ],
   "outputs": [
    {
     "output_type": "execute_result",
     "data": {
      "text/plain": [
       "Text(0, 0.5, 'Change in liquidity value')"
      ]
     },
     "metadata": {},
     "execution_count": 46
    },
    {
     "output_type": "display_data",
     "data": {
      "image/png": "[encoded data removed]",
      "text/plain": [
       "<Figure size 432x288 with 1 Axes>"
      ]
     },
     "metadata": {
      "needs_background": "light"
     }
    }
   ],
   "metadata": {}
  }
 ],
 "metadata": {
  "orig_nbformat": 4,
  "language_info": {
   "name": "python",
   "version": "3.9.7",
   "mimetype": "text/x-python",
   "codemirror_mode": {
    "name": "ipython",
    "version": 3
   },
   "pygments_lexer": "ipython3",
   "nbconvert_exporter": "python",
   "file_extension": ".py"
  },
  "kernelspec": {
   "name": "python3",
   "display_name": "Python 3.9.7 64-bit"
  },
  "interpreter": {
   "hash": "e7370f93d1d0cde622a1f8e1c04877d8463912d04d973331ad4851f04de6915a"
  }
 },
 "nbformat": 4,
 "nbformat_minor": 2
}